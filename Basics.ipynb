{
 "cells": [
  {
   "cell_type": "code",
   "execution_count": null,
   "id": "54eadc0b",
   "metadata": {},
   "outputs": [],
   "source": [
    "import torch\n",
    "import numpy as np\n",
    "\n"
   ]
  },
  {
   "cell_type": "code",
   "execution_count": null,
   "id": "b02f08bf",
   "metadata": {},
   "outputs": [],
   "source": [
    "data = [[1, 2], [3, 4]]\n",
    "x_data = torch.tensor(data)\n",
    "\n",
    "print(x_data.size())  # torch.Size([2, 2])"
   ]
  },
  {
   "cell_type": "code",
   "execution_count": null,
   "id": "9859b4da",
   "metadata": {},
   "outputs": [],
   "source": [
    "np_array = np.array(data)\n",
    "x_np = torch.from_numpy(np_array)\n",
    "print(x_np.size())  # torch.Size([2, 2])"
   ]
  },
  {
   "cell_type": "code",
   "execution_count": null,
   "id": "221d4e96",
   "metadata": {},
   "outputs": [],
   "source": [
    "x_ones = torch.ones_like(x_data) # retains the properties of x_data\n",
    "print(f\"Ones Tensor: \\n {x_ones} \\n\")\n",
    "\n",
    "x_rand = torch.rand_like(x_data, dtype=torch.float) # overrides the datatype of x_data\n",
    "print(f\"Random Tensor: \\n {x_rand} \\n\")\n",
    "\n"
   ]
  },
  {
   "cell_type": "code",
   "execution_count": null,
   "id": "73b53be4",
   "metadata": {},
   "outputs": [],
   "source": [
    "print(x_data.shape, x_data.dtype, x_data.device)"
   ]
  },
  {
   "cell_type": "code",
   "execution_count": null,
   "id": "86ad2c53",
   "metadata": {},
   "outputs": [],
   "source": [
    "if torch.accelerator.is_available():\n",
    "    x_data = x_data.to(torch.accelerator.current_accelerator()) # move to accelerator if available\n"
   ]
  },
  {
   "cell_type": "code",
   "execution_count": null,
   "id": "2fe58098",
   "metadata": {},
   "outputs": [],
   "source": [
    "#torch.cat and torch.stack"
   ]
  },
  {
   "cell_type": "code",
   "execution_count": null,
   "id": "095a73bd",
   "metadata": {},
   "outputs": [],
   "source": [
    "tensor = torch.rand(2, 3, 4, 3)\n",
    "print(tensor.sum().item())"
   ]
  },
  {
   "cell_type": "code",
   "execution_count": null,
   "id": "29007f46",
   "metadata": {},
   "outputs": [],
   "source": [
    "\n",
    "#Tensors on the CPU and NumPy arrays can share their underlying memory locations, and changing one will change the other\n",
    "\n",
    "np_tensor = tensor.numpy()\n",
    "print(tensor.add_(3))\n",
    "\n",
    "print(tensor)\n",
    "print(np_tensor)\n",
    "\n",
    "tensor2 = torch.from_numpy(np_tensor)\n",
    "np_tensor += 2\n",
    "\n",
    "print(tensor)\n",
    "print(np_tensor)\n",
    "print(tensor2)"
   ]
  },
  {
   "cell_type": "code",
   "execution_count": null,
   "id": "35cd7c29",
   "metadata": {},
   "outputs": [],
   "source": []
  },
  {
   "cell_type": "code",
   "execution_count": null,
   "id": "2410e8c4",
   "metadata": {},
   "outputs": [],
   "source": []
  }
 ],
 "metadata": {
  "kernelspec": {
   "display_name": ".dl",
   "language": "python",
   "name": "python3"
  },
  "language_info": {
   "codemirror_mode": {
    "name": "ipython",
    "version": 3
   },
   "file_extension": ".py",
   "mimetype": "text/x-python",
   "name": "python",
   "nbconvert_exporter": "python",
   "pygments_lexer": "ipython3",
   "version": "3.13.3"
  }
 },
 "nbformat": 4,
 "nbformat_minor": 5
}
