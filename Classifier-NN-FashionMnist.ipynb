{
  "cells": [
    {
      "cell_type": "code",
      "execution_count": 1,
      "id": "3e3c7ccc",
      "metadata": {
        "id": "3e3c7ccc"
      },
      "outputs": [],
      "source": [
        "import torch\n",
        "from torch import nn\n",
        "from torch.utils.data import DataLoader\n",
        "from torchvision import datasets\n",
        "from torchvision.transforms import ToTensor"
      ]
    },
    {
      "cell_type": "markdown",
      "id": "6c73a2da",
      "metadata": {
        "id": "6c73a2da"
      },
      "source": [
        "## Load dataset and pass them to dataloader"
      ]
    },
    {
      "cell_type": "code",
      "execution_count": 2,
      "id": "9c659061",
      "metadata": {
        "id": "9c659061",
        "outputId": "e25887d1-a04e-4e7c-98f1-50a8a6bdf850",
        "colab": {
          "base_uri": "https://localhost:8080/"
        }
      },
      "outputs": [
        {
          "output_type": "stream",
          "name": "stderr",
          "text": [
            "100%|██████████| 26.4M/26.4M [00:02<00:00, 9.32MB/s]\n",
            "100%|██████████| 29.5k/29.5k [00:00<00:00, 134kB/s]\n",
            "100%|██████████| 4.42M/4.42M [00:01<00:00, 2.54MB/s]\n",
            "100%|██████████| 5.15k/5.15k [00:00<00:00, 11.9MB/s]\n"
          ]
        }
      ],
      "source": [
        "training_data = datasets.FashionMNIST(\n",
        "    root=\"../data\",\n",
        "    train=True,\n",
        "    download=True,\n",
        "    transform=ToTensor(),\n",
        "    )\n",
        "\n",
        "test_data = datasets.FashionMNIST(\n",
        "    root=\"../data\",\n",
        "    train=False,\n",
        "    download=True,\n",
        "    transform=ToTensor(),\n",
        "    )\n"
      ]
    },
    {
      "cell_type": "code",
      "execution_count": null,
      "id": "95f61e1d",
      "metadata": {
        "id": "95f61e1d",
        "outputId": "a041fa5d-6e73-4e2a-86d5-06612b4e9019"
      },
      "outputs": [
        {
          "name": "stdout",
          "output_type": "stream",
          "text": [
            "torch.Size([64, 1, 28, 28]) torch.Size([64])\n"
          ]
        }
      ],
      "source": [
        "batch_size = 64\n",
        "train_dataloader = DataLoader(training_data, batch_size=batch_size)\n",
        "test_dataloader = DataLoader(test_data, batch_size=batch_size)\n",
        "\n",
        "for X, y in test_dataloader:\n",
        "    print(X.shape, y.shape)\n",
        "    break"
      ]
    },
    {
      "cell_type": "markdown",
      "id": "72d8b13a",
      "metadata": {
        "id": "72d8b13a"
      },
      "source": [
        "## Create Model"
      ]
    },
    {
      "cell_type": "code",
      "execution_count": null,
      "id": "3313ba33",
      "metadata": {
        "id": "3313ba33",
        "outputId": "87aa8787-7072-4a30-d92a-f02c7776dd8c"
      },
      "outputs": [
        {
          "name": "stdout",
          "output_type": "stream",
          "text": [
            "Using cpu device\n",
            "NeuralNetwork(\n",
            "  (flatten): Flatten(start_dim=1, end_dim=-1)\n",
            "  (linear_relu_stack): Sequential(\n",
            "    (0): Linear(in_features=784, out_features=512, bias=True)\n",
            "    (1): ReLU()\n",
            "    (2): Linear(in_features=512, out_features=512, bias=True)\n",
            "    (3): ReLU()\n",
            "    (4): Linear(in_features=512, out_features=10, bias=True)\n",
            "  )\n",
            ")\n"
          ]
        }
      ],
      "source": [
        "device = torch.accelerator.current_accelerator().type if torch.accelerator.is_available() else \"cpu\"\n",
        "print(f\"Using {device} device\")\n",
        "\n",
        "class NeuralNetwork(nn.Module):\n",
        "    def __init__(self):\n",
        "        super().__init__()\n",
        "        self.flatten = nn.Flatten()\n",
        "        self.linear_relu_stack = nn.Sequential(\n",
        "            nn.Linear(28*28, 512),\n",
        "            nn.ReLU(),\n",
        "            nn.Linear(512, 512),\n",
        "            nn.ReLU(),\n",
        "            nn.Linear(512, 10),\n",
        "        )\n",
        "\n",
        "    def forward(self, x):\n",
        "        x = self.flatten(x)\n",
        "        logits = self.linear_relu_stack(x)\n",
        "        return logits\n",
        "\n",
        "model = NeuralNetwork().to(device)\n",
        "print(model)"
      ]
    },
    {
      "cell_type": "markdown",
      "id": "f8b0c603",
      "metadata": {
        "id": "f8b0c603"
      },
      "source": [
        "\n",
        "## Define Loss and Optimizer        "
      ]
    },
    {
      "cell_type": "code",
      "execution_count": null,
      "id": "5322f7b6",
      "metadata": {
        "id": "5322f7b6"
      },
      "outputs": [],
      "source": [
        "loss_fn = nn.CrossEntropyLoss()\n",
        "optimizer = torch.optim.SGD(model.parameters(), lr=1e-3)\n"
      ]
    },
    {
      "cell_type": "markdown",
      "id": "46a28234",
      "metadata": {
        "id": "46a28234"
      },
      "source": [
        "## Training procedure"
      ]
    },
    {
      "cell_type": "code",
      "execution_count": null,
      "id": "df21501f",
      "metadata": {
        "id": "df21501f"
      },
      "outputs": [],
      "source": [
        "def train(dataloader, model, loss_fn, optimizer):\n",
        "    size = len(dataloader.dataset)\n",
        "    model.train()\n",
        "    for batch, (X, y) in enumerate(dataloader):\n",
        "        X, y = X.to(device), y.to(device)\n",
        "\n",
        "        # Compute prediction and loss\n",
        "        pred = model(X)\n",
        "        loss = loss_fn(pred, y)\n",
        "\n",
        "        # Backpropagation\n",
        "        loss.backward()\n",
        "        optimizer.step()\n",
        "        optimizer.zero_grad()\n",
        "\n",
        "        if batch % 100 == 0:\n",
        "            loss, current = loss.item(), batch * len(X)\n",
        "            print(f\"loss: {loss:>7f}  [{current:>5d}/{size:>5d}]\")\n",
        "\n",
        "def test(dataloader, model, loss_fn):\n",
        "    size = len(dataloader.dataset)\n",
        "    num_batches = len(dataloader)\n",
        "\n",
        "    model.eval()\n",
        "    test_loss, correct = 0, 0\n",
        "    with torch.no_grad():\n",
        "        for X,y in dataloader:\n",
        "            X, y = X.to(device), y.to(device)\n",
        "            pred = model(X)\n",
        "            test_loss += loss_fn(pred,y).item()\n",
        "            correct += (pred.argmax(1) == y).type(torch.float).sum().item()\n",
        "\n",
        "    test_loss /= num_batches\n",
        "    correct /= size\n",
        "    print(f\"Test Error: \\n Accuracy: {(100*correct):>0.1f}%, Avg loss: {test_loss:>8f} \\n\")\n"
      ]
    },
    {
      "cell_type": "code",
      "execution_count": null,
      "id": "e8b3b37f",
      "metadata": {
        "id": "e8b3b37f",
        "outputId": "ca0bbf18-39b9-48a3-d092-31cd3a44efdd"
      },
      "outputs": [
        {
          "name": "stdout",
          "output_type": "stream",
          "text": [
            "Epoch 1\n",
            "-------------------------------\n",
            "loss: 2.299214  [    0/60000]\n",
            "loss: 2.274473  [ 6400/60000]\n",
            "loss: 2.236286  [12800/60000]\n",
            "loss: 2.219924  [19200/60000]\n",
            "loss: 2.173881  [25600/60000]\n",
            "loss: 2.112462  [32000/60000]\n",
            "loss: 2.107395  [38400/60000]\n",
            "loss: 2.012325  [44800/60000]\n",
            "loss: 1.988047  [51200/60000]\n",
            "loss: 1.885275  [57600/60000]\n",
            "Test Error: \n",
            " Accuracy: 57.8%, Avg loss: 1.860132 \n",
            "\n",
            "Epoch 2\n",
            "-------------------------------\n",
            "loss: 1.891370  [    0/60000]\n",
            "loss: 1.820633  [ 6400/60000]\n",
            "loss: 1.654119  [12800/60000]\n",
            "loss: 1.660704  [19200/60000]\n",
            "loss: 1.503507  [25600/60000]\n",
            "loss: 1.458580  [32000/60000]\n",
            "loss: 1.436852  [38400/60000]\n",
            "loss: 1.333823  [44800/60000]\n",
            "loss: 1.342472  [51200/60000]\n",
            "loss: 1.218588  [57600/60000]\n",
            "Test Error: \n",
            " Accuracy: 63.1%, Avg loss: 1.238834 \n",
            "\n",
            "Epoch 3\n",
            "-------------------------------\n",
            "loss: 1.310996  [    0/60000]\n",
            "loss: 1.275455  [ 6400/60000]\n",
            "loss: 1.093874  [12800/60000]\n",
            "loss: 1.183794  [19200/60000]\n",
            "loss: 1.039444  [25600/60000]\n",
            "loss: 1.062900  [32000/60000]\n",
            "loss: 1.075754  [38400/60000]\n",
            "loss: 1.014259  [44800/60000]\n",
            "loss: 1.046143  [51200/60000]\n",
            "loss: 0.955991  [57600/60000]\n",
            "Test Error: \n",
            " Accuracy: 65.8%, Avg loss: 0.974382 \n",
            "\n",
            "Epoch 4\n",
            "-------------------------------\n",
            "loss: 1.028497  [    0/60000]\n",
            "loss: 1.042160  [ 6400/60000]\n",
            "loss: 0.838575  [12800/60000]\n",
            "loss: 0.986621  [19200/60000]\n",
            "loss: 0.855358  [25600/60000]\n",
            "loss: 0.872290  [32000/60000]\n",
            "loss: 0.926633  [38400/60000]\n",
            "loss: 0.880399  [44800/60000]\n",
            "loss: 0.908259  [51200/60000]\n",
            "loss: 0.839943  [57600/60000]\n",
            "Test Error: \n",
            " Accuracy: 68.2%, Avg loss: 0.852857 \n",
            "\n",
            "Epoch 5\n",
            "-------------------------------\n",
            "loss: 0.877546  [    0/60000]\n",
            "loss: 0.928406  [ 6400/60000]\n",
            "loss: 0.707011  [12800/60000]\n",
            "loss: 0.887329  [19200/60000]\n",
            "loss: 0.770957  [25600/60000]\n",
            "loss: 0.768018  [32000/60000]\n",
            "loss: 0.846342  [38400/60000]\n",
            "loss: 0.816871  [44800/60000]\n",
            "loss: 0.832757  [51200/60000]\n",
            "loss: 0.774507  [57600/60000]\n",
            "Test Error: \n",
            " Accuracy: 70.7%, Avg loss: 0.784683 \n",
            "\n",
            "Done!\n"
          ]
        }
      ],
      "source": [
        "epochs = 5\n",
        "for e in range(epochs):\n",
        "    print(f\"Epoch {e+1}\\n-------------------------------\")\n",
        "    train(train_dataloader, model, loss_fn, optimizer)\n",
        "    test(test_dataloader, model, loss_fn)\n",
        "print(\"Done!\")"
      ]
    },
    {
      "cell_type": "code",
      "execution_count": null,
      "id": "bafcae02",
      "metadata": {
        "id": "bafcae02",
        "outputId": "ef25e1e1-f88b-4a72-c692-984b67625583"
      },
      "outputs": [
        {
          "name": "stdout",
          "output_type": "stream",
          "text": [
            "Saved PyTorch Model State to model.pth\n"
          ]
        }
      ],
      "source": [
        "torch.save(model.state_dict(), \"model.pth\")\n",
        "print(\"Saved PyTorch Model State to model.pth\")"
      ]
    },
    {
      "cell_type": "code",
      "execution_count": null,
      "id": "367b7743",
      "metadata": {
        "id": "367b7743",
        "outputId": "a8d993c6-00e1-46a3-e115-8ce9bf2c7787"
      },
      "outputs": [
        {
          "data": {
            "text/plain": [
              "<All keys matched successfully>"
            ]
          },
          "execution_count": 15,
          "metadata": {},
          "output_type": "execute_result"
        }
      ],
      "source": [
        "model = NeuralNetwork().to(device)\n",
        "model.load_state_dict(torch.load(\"model.pth\"))"
      ]
    },
    {
      "cell_type": "code",
      "execution_count": null,
      "id": "3490b13b",
      "metadata": {
        "id": "3490b13b"
      },
      "outputs": [],
      "source": [
        "classes = [\n",
        "    \"T-shirt/top\",\n",
        "    \"Trouser\",\n",
        "    \"Pullover\",\n",
        "    \"Dress\",\n",
        "    \"Coat\",\n",
        "    \"Sandal\",\n",
        "    \"Shirt\",\n",
        "    \"Sneaker\",\n",
        "    \"Bag\",\n",
        "    \"Ankle boot\",\n",
        "]"
      ]
    },
    {
      "cell_type": "code",
      "execution_count": null,
      "id": "043c1f3c",
      "metadata": {
        "id": "043c1f3c",
        "outputId": "a03cda84-6268-4784-ade3-0b63213b376d"
      },
      "outputs": [
        {
          "data": {
            "text/plain": [
              "NeuralNetwork(\n",
              "  (flatten): Flatten(start_dim=1, end_dim=-1)\n",
              "  (linear_relu_stack): Sequential(\n",
              "    (0): Linear(in_features=784, out_features=512, bias=True)\n",
              "    (1): ReLU()\n",
              "    (2): Linear(in_features=512, out_features=512, bias=True)\n",
              "    (3): ReLU()\n",
              "    (4): Linear(in_features=512, out_features=10, bias=True)\n",
              "  )\n",
              ")"
            ]
          },
          "execution_count": 18,
          "metadata": {},
          "output_type": "execute_result"
        }
      ],
      "source": [
        "model.eval()"
      ]
    },
    {
      "cell_type": "code",
      "execution_count": null,
      "id": "2aecc747",
      "metadata": {
        "id": "2aecc747",
        "outputId": "4e2ad592-b798-45da-93ca-fd281a972a68"
      },
      "outputs": [
        {
          "name": "stdout",
          "output_type": "stream",
          "text": [
            "Predicted: \"Ankle boot\", Actual: \"Ankle boot\"\n"
          ]
        }
      ],
      "source": [
        "x,y = test_data[0][0], test_data[0][1]\n",
        "with torch.no_grad():\n",
        "    x = x.to(device)\n",
        "    pred = model(x)\n",
        "    predicted, actual = classes[pred[0].argmax(0)], classes[y]\n",
        "    print(f'Predicted: \"{predicted}\", Actual: \"{actual}\"')"
      ]
    },
    {
      "cell_type": "code",
      "execution_count": null,
      "id": "0bc2f2ed",
      "metadata": {
        "id": "0bc2f2ed"
      },
      "outputs": [],
      "source": []
    }
  ],
  "metadata": {
    "kernelspec": {
      "display_name": ".dl",
      "language": "python",
      "name": "python3"
    },
    "language_info": {
      "codemirror_mode": {
        "name": "ipython",
        "version": 3
      },
      "file_extension": ".py",
      "mimetype": "text/x-python",
      "name": "python",
      "nbconvert_exporter": "python",
      "pygments_lexer": "ipython3",
      "version": "3.13.3"
    },
    "colab": {
      "provenance": []
    }
  },
  "nbformat": 4,
  "nbformat_minor": 5
}